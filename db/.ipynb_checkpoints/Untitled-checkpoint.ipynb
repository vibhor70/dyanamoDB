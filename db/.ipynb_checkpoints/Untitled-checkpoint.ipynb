{
 "cells": [
  {
   "cell_type": "code",
   "execution_count": 3,
   "metadata": {},
   "outputs": [],
   "source": [
    "import csv\n",
    "from collections import defaultdict\n",
    "\n",
    "columns = defaultdict(list) # each value in each column is appended to a list\n",
    "\n",
    "with open('data.csv') as f:\n",
    "    reader = csv.DictReader(f) # read rows into a dictionary format\n",
    "    for row in reader: # read a row as {column1: value1, column2: value2,...}\n",
    "        for (k,v) in row.items(): # go over each column name and value \n",
    "            columns[k].append(v) # append the value into the appropriate "
   ]
  },
  {
   "cell_type": "code",
   "execution_count": 4,
   "metadata": {},
   "outputs": [],
   "source": [
    "xx = list(set(columns[\"Item\"]))"
   ]
  },
  {
   "cell_type": "code",
   "execution_count": 7,
   "metadata": {},
   "outputs": [],
   "source": [
    "import csv\n",
    "import random\n",
    "from tinydb import Query, TinyDB\n",
    "\n",
    "db = TinyDB('../db/inventory.json', indent=4, separators=(',', ': '))\n",
    "\n",
    "for item in xx:\n",
    "    if len(item) == 0:\n",
    "        continue\n",
    "    db.insert({ \"item\": item, \"total_qty\": random.randint(1, 5), \"category\": random.randint(1, 3), \"price\": random.randint(10, 100) })"
   ]
  },
  {
   "cell_type": "code",
   "execution_count": null,
   "metadata": {},
   "outputs": [],
   "source": []
  }
 ],
 "metadata": {
  "kernelspec": {
   "display_name": "Python 3",
   "language": "python",
   "name": "python3"
  },
  "language_info": {
   "codemirror_mode": {
    "name": "ipython",
    "version": 3
   },
   "file_extension": ".py",
   "mimetype": "text/x-python",
   "name": "python",
   "nbconvert_exporter": "python",
   "pygments_lexer": "ipython3",
   "version": "3.8.5"
  }
 },
 "nbformat": 4,
 "nbformat_minor": 4
}
